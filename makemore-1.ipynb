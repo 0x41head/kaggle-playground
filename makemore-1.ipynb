{
 "cells": [
  {
   "cell_type": "code",
   "execution_count": 7,
   "id": "acef9aa5-480b-41dd-9865-9760b0d9fc29",
   "metadata": {},
   "outputs": [],
   "source": [
    "words=open('dataset/names.txt').read().splitlines()"
   ]
  },
  {
   "cell_type": "code",
   "execution_count": 8,
   "id": "38fd0600-09ad-4cbe-a174-ac6a92b28d54",
   "metadata": {},
   "outputs": [
    {
     "data": {
      "text/plain": [
       "['Abhishek',\n",
       " 'Aman',\n",
       " 'Harsh',\n",
       " 'Ayush',\n",
       " 'Aditi',\n",
       " 'Anjali',\n",
       " 'Shubham',\n",
       " 'Anushka',\n",
       " 'Rohit',\n",
       " 'Saurabh']"
      ]
     },
     "execution_count": 8,
     "metadata": {},
     "output_type": "execute_result"
    }
   ],
   "source": [
    "words[:10]"
   ]
  },
  {
   "cell_type": "code",
   "execution_count": 9,
   "id": "345f86a4-4837-425c-995f-305ff2f68f58",
   "metadata": {},
   "outputs": [
    {
     "data": {
      "text/plain": [
       "2"
      ]
     },
     "execution_count": 9,
     "metadata": {},
     "output_type": "execute_result"
    }
   ],
   "source": [
    "min(len(w) for w in words)"
   ]
  },
  {
   "cell_type": "code",
   "execution_count": 10,
   "id": "6656e4bf-aebe-4267-b42d-881a168e0ecd",
   "metadata": {},
   "outputs": [
    {
     "data": {
      "text/plain": [
       "14"
      ]
     },
     "execution_count": 10,
     "metadata": {},
     "output_type": "execute_result"
    }
   ],
   "source": [
    "max(len(w) for w in words)"
   ]
  },
  {
   "cell_type": "code",
   "execution_count": 22,
   "id": "c3a7b322-6d7d-488c-a71f-c7bb18d3d09e",
   "metadata": {},
   "outputs": [],
   "source": [
    "b={}\n",
    "for w in words:\n",
    "    chs=[\"<S>\"]+list(w)+[\"<E>\"]\n",
    "    for c1,c2 in zip(chs,chs[1:]):\n",
    "        bigram=(c1,c2)\n",
    "        b[bigram]=b.get(bigram,0)+1"
   ]
  },
  {
   "cell_type": "code",
   "execution_count": 37,
   "id": "36f19b2b-1667-484c-bbfc-969ae9f496da",
   "metadata": {},
   "outputs": [
    {
     "data": {
      "text/plain": [
       "[(('a', '<E>'), 304),\n",
       " (('s', 'h'), 294),\n",
       " (('a', 'n'), 272),\n",
       " (('<S>', 'S'), 258),\n",
       " (('h', 'a'), 220)]"
      ]
     },
     "execution_count": 37,
     "metadata": {},
     "output_type": "execute_result"
    }
   ],
   "source": [
    "#hide\n",
    "sorted(b.items(),key=lambda k: -k[1])[:5]"
   ]
  },
  {
   "cell_type": "code",
   "execution_count": null,
   "id": "683d2f03-98e7-463e-b719-68ab47a1a810",
   "metadata": {},
   "outputs": [],
   "source": []
  }
 ],
 "metadata": {
  "kernelspec": {
   "display_name": "Python 3 (ipykernel)",
   "language": "python",
   "name": "python3"
  },
  "language_info": {
   "codemirror_mode": {
    "name": "ipython",
    "version": 3
   },
   "file_extension": ".py",
   "mimetype": "text/x-python",
   "name": "python",
   "nbconvert_exporter": "python",
   "pygments_lexer": "ipython3",
   "version": "3.11.6"
  }
 },
 "nbformat": 4,
 "nbformat_minor": 5
}
